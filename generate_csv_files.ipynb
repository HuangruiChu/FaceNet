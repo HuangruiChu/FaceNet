{
 "cells": [
  {
   "cell_type": "code",
   "execution_count": 1,
   "metadata": {},
   "outputs": [],
   "source": [
    "\"\"\"Code was inspired by tbmoon's code from his 'facenet' repository\n",
    "    https://github.com/tbmoon/facenet/blob/master/datasets/write_csv_for_making_dataset.ipynb\n",
    "\n",
    "    The code was modified to run much faster since 'dataframe.append()' creates a new dataframe per each iteration\n",
    "    which significantly slows performance.\n",
    "\"\"\"\n",
    "\n",
    "import os\n",
    "import glob\n",
    "import pandas as pd\n",
    "import time\n",
    "import argparse\n",
    "from tqdm import tqdm\n"
   ]
  },
  {
   "cell_type": "code",
   "execution_count": 7,
   "metadata": {},
   "outputs": [],
   "source": [
    "parser = argparse.ArgumentParser(description=\"Generating csv file for triplet loss!\")\n",
    "parser.add_argument('--dataroot', '-d', type=str, default=\"lfw\",\n",
    "                    help=\"(REQUIRED) Absolute path to the dataset folder to generate a csv file containing the paths of the images for triplet loss.\"\n",
    "                    )\n",
    "parser.add_argument('--csv_name', type=str,default=\"lfw_train.csv\",\n",
    "                    help=\"Required name of the csv file to be generated. (default: 'vggface2.csv')\"\n",
    "                    )\n",
    "args = parser.parse_args(args=[])\n",
    "\n",
    "dataroot = args.dataroot\n",
    "csv_name = args.csv_name\n"
   ]
  },
  {
   "cell_type": "code",
   "execution_count": 8,
   "metadata": {},
   "outputs": [],
   "source": [
    "def generate_csv_file(dataroot, csv_name=\"lfw_train.csv\"):\n",
    "    \"\"\"Generates a csv file containing the image paths of the VGGFace2 dataset for use in triplet selection in\n",
    "    triplet loss training.\n",
    "\n",
    "    Args:\n",
    "        dataroot (str): absolute path to the training dataset.\n",
    "        csv_name (str): name of the resulting csv file.\n",
    "    \"\"\"\n",
    "    print(\"\\nLoading image paths ...\")\n",
    "    files = glob.glob(dataroot + \"/*/*\")\n",
    "\n",
    "    start_time = time.time()\n",
    "    list_rows = []\n",
    "\n",
    "    print(\"Number of files: {}\".format(len(files)))\n",
    "    print(\"\\nGenerating csv file ...\")\n",
    "\n",
    "    progress_bar = enumerate(tqdm(files))\n",
    "\n",
    "    for file_index, file in progress_bar:\n",
    "\n",
    "        face_id = os.path.basename(file).split('.')[0]\n",
    "        face_label = os.path.basename(os.path.dirname(file))\n",
    "\n",
    "        # Better alternative than dataframe.append()\n",
    "        row = {'id': face_id, 'name': face_label}\n",
    "        list_rows.append(row)\n",
    "\n",
    "    dataframe = pd.DataFrame(list_rows)\n",
    "    dataframe = dataframe.sort_values(by=['name', 'id']).reset_index(drop=True)\n",
    "\n",
    "    # Encode names as categorical classes\n",
    "    dataframe['class'] = pd.factorize(dataframe['name'])[0]\n",
    "    dataframe.to_csv(path_or_buf=csv_name, index=False)\n",
    "\n",
    "    elapsed_time = time.time()-start_time\n",
    "    print(\"\\nDone! Elapsed time: {:.2f} minutes.\".format(elapsed_time/60))\n"
   ]
  },
  {
   "cell_type": "code",
   "execution_count": 9,
   "metadata": {},
   "outputs": [
    {
     "name": "stdout",
     "output_type": "stream",
     "text": [
      "\n",
      "Loading image paths ...\n",
      "Number of files: 13233\n",
      "\n",
      "Generating csv file ...\n"
     ]
    },
    {
     "name": "stderr",
     "output_type": "stream",
     "text": [
      "100%|██████████| 13233/13233 [00:00<00:00, 186668.36it/s]"
     ]
    },
    {
     "name": "stdout",
     "output_type": "stream",
     "text": [
      "\n",
      "Done! Elapsed time: 0.00 minutes.\n"
     ]
    },
    {
     "name": "stderr",
     "output_type": "stream",
     "text": [
      "\n"
     ]
    }
   ],
   "source": [
    "generate_csv_file(dataroot=dataroot, csv_name=csv_name)"
   ]
  },
  {
   "cell_type": "code",
   "execution_count": null,
   "metadata": {},
   "outputs": [],
   "source": []
  }
 ],
 "metadata": {
  "kernelspec": {
   "display_name": "Python 3",
   "language": "python",
   "name": "python3"
  },
  "language_info": {
   "codemirror_mode": {
    "name": "ipython",
    "version": 3
   },
   "file_extension": ".py",
   "mimetype": "text/x-python",
   "name": "python",
   "nbconvert_exporter": "python",
   "pygments_lexer": "ipython3",
   "version": "3.7.6"
  }
 },
 "nbformat": 4,
 "nbformat_minor": 4
}

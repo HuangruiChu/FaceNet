{
 "cells": [
  {
   "cell_type": "markdown",
   "metadata": {},
   "source": [
    "# FaceNet的实现 version2\n",
    "\n",
    "## 参考 https://github.com/tamerthamoqa/facenet-pytorch-vggface2\n",
    "## 以及brook的代码，尝试将两者结合\n",
    "\n",
    "## 修改部分：\n",
    "\n",
    "1. 修复了变成ipynb后的bug\n",
    "\n",
    "2. 减少了无用的plot，并改善plot的画质"
   ]
  },
  {
   "cell_type": "code",
   "execution_count": 1,
   "metadata": {},
   "outputs": [],
   "source": [
    "#基本的引入，按字母表排序\n",
    "import argparse\n",
    "import matplotlib.pyplot as plt\n",
    "import numpy as np\n",
    "from numpy import random\n",
    "import os\n",
    "import random\n",
    "#from random import shuffle\n",
    "import sys\n",
    "sys.path.append(r'dataloaders')\n",
    "#torch部分的import\n",
    "import torch\n",
    "from torch.autograd import Function\n",
    "import torch.backends.cudnn as cudnn\n",
    "import torch.nn as nn\n",
    "import torch.nn.functional as F\n",
    "from torch.nn.modules.distance import PairwiseDistance\n",
    "import torch.optim as optim\n",
    "from torch.utils.data import DataLoader, Dataset\n",
    "import torchvision.transforms as transforms\n",
    "import torchvision.transforms.functional as tf\n",
    "from tqdm import tqdm\n",
    "from PIL import Image\n",
    "import pandas as pd\n",
    "\n",
    "#从py文件中引入functions\n",
    "from dataloaders.LFWDataset import LFWDataset\n",
    "from dataloaders.triplet_loss_dataloader import TripletFaceDataset\n",
    "from validate_on_LFW import evaluate_lfw\n",
    "from plot import plot_roc_lfw, plot_accuracy_lfw, plot_triplet_losses\n"
   ]
  },
  {
   "cell_type": "markdown",
   "metadata": {},
   "source": [
    "# 设置随机数种子"
   ]
  },
  {
   "cell_type": "code",
   "execution_count": 2,
   "metadata": {},
   "outputs": [],
   "source": [
    "def setup_seed(seed):\n",
    "    torch.manual_seed(seed)\n",
    "    torch.cuda.manual_seed_all(seed)\n",
    "    np.random.seed(seed)\n",
    "    random.seed(seed)\n",
    "    torch.backends.cudnn.deterministic = True\n",
    "# 设置随机数种子\n",
    "setup_seed(20)"
   ]
  },
  {
   "cell_type": "markdown",
   "metadata": {},
   "source": [
    "# 设立args"
   ]
  },
  {
   "cell_type": "code",
   "execution_count": 3,
   "metadata": {},
   "outputs": [],
   "source": [
    "def config():\n",
    "    parser = argparse.ArgumentParser(description=\"Training a FaceNet facial recognition model using Triplet Loss.\")\n",
    "    # Dataset\n",
    "    parser.add_argument('--dataroot', '-d', type=str, default=\"Cropped_images\",\n",
    "                        help=\"(REQUIRED) Absolute path to the dataset folder\"\n",
    "                        )\n",
    "    # LFW\n",
    "    parser.add_argument('--lfw', type=str, default=\"Cropped_images\",\n",
    "                        help=\"(REQUIRED) Absolute path to the labeled faces in the wild dataset folder\"\n",
    "                        )\n",
    "    parser.add_argument('--dataset_csv', type=str, default='datasets/lfw_train.csv',\n",
    "                        help=\"Path to the csv file containing the image paths of the training dataset.\"\n",
    "                        )\n",
    "    parser.add_argument('--lfw_batch_size', default=64, type=int,\n",
    "                        help=\"Batch size for LFW dataset (default: 64)\"\n",
    "                        )\n",
    "    parser.add_argument('--lfw_validation_epoch_interval', default=1, type=int,\n",
    "                        help=\"Perform LFW validation every n epoch interval (default: every 1 epoch)\"\n",
    "                        )\n",
    "    # Training settings\n",
    "    parser.add_argument('--model', type=str, default=\"resnet18\", choices=[\"resnet18\",\"resnet34\"],\n",
    "        help=\"The required model architecture for training: (“resnet18”,'resnet34'), (default: 'resnet34')\"\n",
    "                        )\n",
    "    parser.add_argument('--epochs', default=50, type=int,\n",
    "                        help=\"Required training epochs (default: 30)\"\n",
    "                        )\n",
    "    parser.add_argument('--training_triplets_path', default=None, type=str,\n",
    "        help=\"Path to training triplets numpy file in 'datasets/' folder to skip training triplet generation step.\"\n",
    "                        )\n",
    "    parser.add_argument('--num_triplets_train', default=10000, type=int,\n",
    "                        help=\"Number of triplets for training (default: 1100000)\"\n",
    "                        )\n",
    "    parser.add_argument('--resume_path', default='',  type=str,\n",
    "        help='path to latest model checkpoint: (Model_training_checkpoints/model_resnet34_epoch_0.pt file) (default: None)'\n",
    "                        )\n",
    "    parser.add_argument('--batch_size', default=16, type=int,\n",
    "                        help=\"Batch size (default: 32)\"\n",
    "                        )\n",
    "    parser.add_argument('--num_workers', default=0, type=int,\n",
    "                        help=\"Number of workers for data loaders (default: 0)\"\n",
    "                        #不为零就会报错，原因是shared memory不够，而sharedmemory提高需要sudo权限。据我搜集的信息，目前没有其他解决办法\n",
    "                        )\n",
    "    parser.add_argument('--embedding_dim', default=256, type=int,\n",
    "                        help=\"Dimension of the embedding vector (default: 128)\"\n",
    "                        )\n",
    "    parser.add_argument('--pretrained', default=True, type=bool,\n",
    "                        help=\"Download a model pretrained on the ImageNet dataset (Default: False)\"\n",
    "                        )\n",
    "    parser.add_argument('--optimizer', type=str, default=\"adam\", choices=[\"sgd\", \"adagrad\", \"rmsprop\", \"adam\"],\n",
    "        help=\"Required optimizer for training the model: ('sgd','adagrad','rmsprop','adam'), (default: 'adam')\"\n",
    "                        )\n",
    "    parser.add_argument('--lr', default=0.001, type=float,\n",
    "                        help=\"Learning rate for the optimizer (default: 0.1)\"\n",
    "                        )\n",
    "    parser.add_argument('--margin', default=0.5, type=float,\n",
    "                        help='margin for triplet loss (default: 0.5)'\n",
    "                        )\n",
    "    args = parser.parse_args(args=[])\n",
    "    return args\n",
    "\n",
    "args=config()"
   ]
  },
  {
   "cell_type": "markdown",
   "metadata": {},
   "source": [
    "#  Earlystopping"
   ]
  },
  {
   "cell_type": "code",
   "execution_count": 4,
   "metadata": {},
   "outputs": [],
   "source": [
    "#改编版！新增monitor(mIoU)\n",
    "class EarlyStopping:\n",
    "    \"\"\"Early stops the training if validation loss doesn't improve after a given patience.\"\"\"\n",
    "    def __init__(self, monitor=\"val_acc\", patience=7, verbose=False, delta=0):\n",
    "        \"\"\"\n",
    "        Args:\n",
    "            monitor (string): 可以选 \"val_acc\"or \"val_loss\"or\"val_mIoU\"\n",
    "                            \n",
    "                            Default: \"val_acc\"\n",
    "            patience (int): How long to wait after last time validation loss improved.\n",
    "                            Default: 7\n",
    "            verbose (bool): If True, prints a message for each validation loss improvement. \n",
    "                            Default: False\n",
    "            delta (float): Minimum change in the monitored quantity to qualify as an improvement.\n",
    "                            Default: 0\n",
    "        \"\"\"\n",
    "        self.monitor=monitor\n",
    "        self.patience = patience\n",
    "        self.verbose = verbose\n",
    "        self.counter = 0\n",
    "        self.best_score = None\n",
    "        self.early_stop = False\n",
    "        self.val_loss_min = np.Inf\n",
    "        self.val_acc_max = 0\n",
    "        self.val_mIoU_max = 0\n",
    "        self.delta = delta\n",
    "    \n",
    "    def __call__(self, val, model):\n",
    "        if self.monitor=='val_loss':\n",
    "            val_loss=val\n",
    "            score = -val_loss\n",
    "\n",
    "            if self.best_score is None:\n",
    "                self.best_score = score\n",
    "                self.save_checkpoint(val_loss, model)\n",
    "            elif score < self.best_score + self.delta:\n",
    "                self.counter += 1\n",
    "                print(f'EarlyStopping counter: {self.counter} out of {self.patience}')\n",
    "                if self.counter >= self.patience:\n",
    "                    self.early_stop = True\n",
    "            else:\n",
    "                self.best_score = score\n",
    "                self.save_checkpoint(val_loss, model)\n",
    "                self.counter = 0\n",
    "        elif self.monitor=='val_acc':\n",
    "            #这里的val是0-100之间的数。\n",
    "            val_acc=val\n",
    "            score = val_acc\n",
    "            if self.best_score is None:\n",
    "                self.best_score = score\n",
    "                self.save_checkpoint(val_acc, model)\n",
    "            elif score < self.best_score + self.delta:\n",
    "                self.counter += 1\n",
    "                print(f'EarlyStopping counter: {self.counter} out of {self.patience}')\n",
    "                if self.counter >= self.patience:\n",
    "                    self.early_stop = True\n",
    "            else:\n",
    "                self.best_score = score\n",
    "                self.save_checkpoint(val_acc, model)\n",
    "                self.counter = 0   \n",
    "        elif self.monitor=='val_mIoU':\n",
    "            #这里的val是0-100之间的数。\n",
    "            val_mIoU=val\n",
    "            score = val_mIoU\n",
    "            if self.best_score is None:\n",
    "                self.best_score = score\n",
    "                self.save_checkpoint(val_mIoU, model)\n",
    "            elif score < self.best_score + self.delta:\n",
    "                self.counter += 1\n",
    "                print(f'EarlyStopping counter: {self.counter} out of {self.patience}')\n",
    "                if self.counter >= self.patience:\n",
    "                    self.early_stop = True\n",
    "            else:\n",
    "                self.best_score = score\n",
    "                self.save_checkpoint(val_mIoU, model)\n",
    "                self.counter = 0 \n",
    "    def save_checkpoint(self, val, model):\n",
    "        '''Saves model when validation loss decrease.'''\n",
    "        '''Saves model when validation accuracy increase.'''\n",
    "        if self.monitor=='val_loss':\n",
    "            if self.verbose:\n",
    "                print(f'Validation loss decreased ({self.val_loss_min:.6f} --> {val:.6f}).  Saving model ...')           \n",
    "            self.val_loss_min = val\n",
    "        if self.monitor=='val_acc':\n",
    "            if self.verbose:\n",
    "                print(f'Validation accuracy increased ({self.val_acc_max:.6f}% --> {val:.6f}%).  Saving model ...')\n",
    "            self.val_acc_max = val\n",
    "        if self.monitor=='val_mIoU':\n",
    "            if self.verbose:\n",
    "                print(f'Validation mIoU increased ({self.val_mIoU_max:.6f} --> {val:.6f}).  Saving model ...')\n",
    "            self.val_mIoU_max = val\n",
    "        torch.save(model.state_dict(), 'checkpoint.pt')\t# 这里会存储迄今最优模型的参数"
   ]
  },
  {
   "cell_type": "markdown",
   "metadata": {},
   "source": [
    "# 一些辅助functions"
   ]
  },
  {
   "cell_type": "code",
   "execution_count": 5,
   "metadata": {},
   "outputs": [],
   "source": [
    "def set_model_architecture(model_architecture, pretrained, embedding_dimension):\n",
    "    if model_architecture == \"resnet18\":\n",
    "        model = Resnet18Triplet(\n",
    "            embedding_dimension=embedding_dimension,\n",
    "            pretrained=pretrained\n",
    "        )\n",
    "    elif model_architecture == \"resnet34\":\n",
    "        model = Resnet34Triplet(\n",
    "            embedding_dimension=embedding_dimension,\n",
    "            pretrained=pretrained\n",
    "        )\n",
    "    print(\"Using {} model architecture.\".format(model_architecture))\n",
    "\n",
    "    return model"
   ]
  },
  {
   "cell_type": "code",
   "execution_count": 6,
   "metadata": {},
   "outputs": [],
   "source": [
    "def set_model_gpu_mode(model):\n",
    "    flag_train_gpu = torch.cuda.is_available()\n",
    "    flag_train_multi_gpu = False\n",
    "\n",
    "    if flag_train_gpu and torch.cuda.device_count() > 1:\n",
    "        model = nn.DataParallel(model)\n",
    "        model.cuda()\n",
    "        flag_train_multi_gpu = True\n",
    "        print('Using multi-gpu training.')\n",
    "\n",
    "    elif flag_train_gpu and torch.cuda.device_count() == 1:\n",
    "        model.cuda()\n",
    "        print('Using single-gpu training.')\n",
    "    return model, flag_train_multi_gpu"
   ]
  },
  {
   "cell_type": "code",
   "execution_count": 7,
   "metadata": {},
   "outputs": [],
   "source": [
    "def set_optimizer(optimizer, model, learning_rate):\n",
    "    if optimizer == \"sgd\":\n",
    "        optimizer_model = torch.optim.SGD(model.parameters(), lr=learning_rate)\n",
    "\n",
    "    elif optimizer == \"adagrad\":\n",
    "        optimizer_model = torch.optim.Adagrad(model.parameters(), lr=learning_rate)\n",
    "\n",
    "    elif optimizer == \"rmsprop\":\n",
    "        optimizer_model = torch.optim.RMSprop(model.parameters(), lr=learning_rate)\n",
    "\n",
    "    elif optimizer == \"adam\":\n",
    "        optimizer_model = torch.optim.Adam(model.parameters(), lr=learning_rate, betas=(0.9, 0.999), eps=1e-08, amsgrad=True)\n",
    "\n",
    "    return optimizer_model\n"
   ]
  },
  {
   "cell_type": "markdown",
   "metadata": {},
   "source": [
    "# 设立dataset\n",
    "\n",
    "## 参考 龚绪晨brooke 的写法"
   ]
  },
  {
   "cell_type": "code",
   "execution_count": 8,
   "metadata": {},
   "outputs": [],
   "source": [
    "class IFWdataset(Dataset):\n",
    "    \n",
    "    def __init__(self, phase,dataroot):\n",
    "        \n",
    "        self.endidx = {'train': 4037, 'test': 1710}.get(phase)\n",
    "        self.root = dataroot\n",
    "        self.all_frame = pd.read_csv('datasets/people' + phase + '.csv')\n",
    "        self.anc_frame = self.all_frame.loc[self.all_frame.images > 1]\n",
    "        \n",
    "        \n",
    "    def __getitem__(self, index):\n",
    "        \n",
    "        anc_name, anc_img_num = self.anc_frame.iloc[index]\n",
    "        anc_id, pos_id = random.sample(range(1, anc_img_num+1), 2)\n",
    "        \n",
    "        neg_name = anc_name\n",
    "        while neg_name == anc_name:\n",
    "            n = random.randint(0,self.endidx)\n",
    "            neg_name, neg_img_num = self.all_frame.iloc[n]\n",
    "        neg_id = random.randint(1,neg_img_num)\n",
    "        \n",
    "        \n",
    "        anc = anc_name + '_' + ('000'+ str(anc_id))[-4:] + '.jpg'\n",
    "        anc = Image.open(os.path.join(self.root,anc_name,anc))\n",
    "        anc = tf.resize(anc, (160,160))\n",
    "        anc = transforms.RandomHorizontalFlip(p=0.5)(anc)\n",
    "        anc = tf.to_tensor(anc)\n",
    "        anc = tf.normalize(anc, [0.485, 0.456, 0.406], [0.229, 0.224, 0.225])\n",
    "        \n",
    "        pos = anc_name + '_' + ('000'+ str(pos_id))[-4:] + '.jpg'\n",
    "        pos = Image.open(os.path.join(self.root,anc_name,pos))\n",
    "        pos = tf.resize(pos, (160,160))\n",
    "        pos = transforms.RandomHorizontalFlip(p=0.5)(pos)\n",
    "        pos = tf.to_tensor(pos)\n",
    "        pos = tf.normalize(pos, [0.485, 0.456, 0.406], [0.229, 0.224, 0.225])\n",
    "        \n",
    "        neg = neg_name + '_' + ('000'+ str(neg_id))[-4:] + '.jpg'\n",
    "        neg = Image.open(os.path.join(self.root,neg_name,neg))\n",
    "        neg = tf.resize(neg,(160,160))\n",
    "        neg = transforms.RandomHorizontalFlip(p=0.5)(neg)\n",
    "        neg = tf.to_tensor(neg)\n",
    "        neg = tf.normalize(neg, [0.485, 0.456, 0.406], [0.229, 0.224, 0.225])\n",
    "        \n",
    "        return anc, pos, neg\n",
    "   \n",
    "\n",
    "    def __len__(self):\n",
    "        return len(self.anc_frame) # train 1184, test 496"
   ]
  },
  {
   "cell_type": "markdown",
   "metadata": {},
   "source": [
    "# Model-Resnet18"
   ]
  },
  {
   "cell_type": "code",
   "execution_count": 9,
   "metadata": {},
   "outputs": [],
   "source": [
    "class Resnet18Triplet(nn.Module):\n",
    "    \"\"\"Constructs a ResNet-18 model for FaceNet training using triplet loss.\n",
    "    Args:\n",
    "        embedding_dimension (int): Required dimension of the resulting embedding layer that is outputted by the model.\n",
    "                                   using triplet loss. Defaults to 128.\n",
    "        pretrained (bool): If True, returns a model pre-trained on the ImageNet dataset from a PyTorch repository.\n",
    "                           Defaults to False.\n",
    "    \"\"\"\n",
    "\n",
    "    def __init__(self, embedding_dimension=128, pretrained=False):\n",
    "        super(Resnet18Triplet, self).__init__()\n",
    "        self.model = torch.hub.load('pytorch/vision:v0.6.0', 'resnet18', pretrained=pretrained)\n",
    "        input_features_fc_layer = self.model.fc.in_features\n",
    "        # Output embedding\n",
    "        self.model.fc = nn.Linear(input_features_fc_layer, embedding_dimension)\n",
    "\n",
    "    def l2_norm(self, input):\n",
    "        \"\"\"Perform l2 normalization operation on an input vector.\n",
    "        code copied from liorshk's repository: https://github.com/liorshk/facenet_pytorch/blob/master/model.py\n",
    "        \"\"\"\n",
    "        input_size = input.size()\n",
    "        buffer = torch.pow(input, 2)\n",
    "        normp = torch.sum(buffer, 1).add_(1e-10)\n",
    "        norm = torch.sqrt(normp)\n",
    "        _output = torch.div(input, norm.view(-1, 1).expand_as(input))\n",
    "        output = _output.view(input_size)\n",
    "\n",
    "        return output\n",
    "\n",
    "    def forward(self, images):\n",
    "        \"\"\"Forward pass to output the embedding vector (feature vector) after l2-normalization and multiplication\n",
    "        by scalar (alpha).\"\"\"\n",
    "        embedding = self.model(images)\n",
    "        embedding = self.l2_norm(embedding)\n",
    "        # Multiply by alpha = 10 as suggested in https://arxiv.org/pdf/1703.09507.pdf\n",
    "        #   Equation 9: number of classes in VGGFace2 dataset = 9131\n",
    "        #   lower bound on alpha = 5, multiply alpha by 2; alpha = 10\n",
    "        alpha = 10\n",
    "        embedding = embedding * alpha\n",
    "\n",
    "        return embedding"
   ]
  },
  {
   "cell_type": "markdown",
   "metadata": {},
   "source": [
    "# Model-Resnet34"
   ]
  },
  {
   "cell_type": "code",
   "execution_count": 10,
   "metadata": {},
   "outputs": [],
   "source": [
    "class Resnet34Triplet(nn.Module):\n",
    "    \"\"\"Constructs a ResNet-34 model for FaceNet training using triplet loss.\n",
    "    Args:\n",
    "        embedding_dimension (int): Required dimension of the resulting embedding layer that is outputted by the model.\n",
    "                                   using triplet loss. Defaults to 128.\n",
    "        pretrained (bool): If True, returns a model pre-trained on the ImageNet dataset from a PyTorch repository.\n",
    "                           Defaults to False.\n",
    "    \"\"\"\n",
    "\n",
    "    def __init__(self, embedding_dimension=128, pretrained=False):\n",
    "        super(Resnet34Triplet, self).__init__()\n",
    "        #从pytorch官方下载resnet34\n",
    "        self.model = torch.hub.load('pytorch/vision:v0.6.0', 'resnet34', pretrained=pretrained)\n",
    "        input_features_fc_layer = self.model.fc.in_features\n",
    "        # Output embedding\n",
    "        self.model.fc = nn.Linear(input_features_fc_layer, embedding_dimension)\n",
    "\n",
    "    def l2_norm(self, input):\n",
    "        \"\"\"Perform l2 normalization operation on an input vector.\n",
    "        code copied from liorshk's repository: https://github.com/liorshk/facenet_pytorch/blob/master/model.py\n",
    "        \"\"\"\n",
    "        input_size = input.size()\n",
    "        buffer = torch.pow(input, 2)\n",
    "        normp = torch.sum(buffer, 1).add_(1e-10)\n",
    "        norm = torch.sqrt(normp)\n",
    "        _output = torch.div(input, norm.view(-1, 1).expand_as(input))\n",
    "        output = _output.view(input_size)\n",
    "\n",
    "        return output\n",
    "\n",
    "    def forward(self, images):\n",
    "        \"\"\"Forward pass to output the embedding vector (feature vector) after l2-normalization and multiplication\n",
    "        by scalar (alpha).\"\"\"\n",
    "        embedding = self.model(images)\n",
    "        embedding = self.l2_norm(embedding)\n",
    "        # Multiply by alpha = 10 as suggested in https://arxiv.org/pdf/1703.09507.pdf\n",
    "        #   Equation 9: number of classes in VGGFace2 dataset = 9131\n",
    "        #   lower bound on alpha = 5, multiply alpha by 2; alpha = 10\n",
    "        alpha = 10\n",
    "        embedding = embedding * alpha\n",
    "\n",
    "        return embedding"
   ]
  },
  {
   "cell_type": "markdown",
   "metadata": {},
   "source": [
    "### 可以利用已经训练好的参数"
   ]
  },
  {
   "cell_type": "code",
   "execution_count": 11,
   "metadata": {},
   "outputs": [],
   "source": [
    "# checkpoint = torch.load('model_resnet34_triplet.pt')\n",
    "# model = Resnet34Triplet(embedding_dimension=checkpoint['embedding_dimension'])\n",
    "# model.load_state_dict(checkpoint['model_state_dict'])\n",
    "# best_distance_threshold = checkpoint['best_distance_threshold']"
   ]
  },
  {
   "cell_type": "markdown",
   "metadata": {},
   "source": [
    "# TripletLoss\n",
    "\n",
    "## 这里只是写出了，后面训练的时候其实使用的是pytorch官方提供的tripletLoss"
   ]
  },
  {
   "cell_type": "code",
   "execution_count": 12,
   "metadata": {},
   "outputs": [],
   "source": [
    "class TripletLoss(Function):\n",
    "\n",
    "    def __init__(self, margin):\n",
    "        super(TripletLoss, self).__init__()\n",
    "        self.margin = margin\n",
    "        self.pdist = PairwiseDistance(2)\n",
    "\n",
    "    def forward(self, anchor, positive, negative):\n",
    "        pos_dist = self.pdist.forward(anchor, positive)\n",
    "        neg_dist = self.pdist.forward(anchor, negative)\n",
    "\n",
    "        hinge_dist = torch.clamp(self.margin + pos_dist - neg_dist, min=0.0)\n",
    "        loss = torch.mean(hinge_dist)\n",
    "\n",
    "        return loss"
   ]
  },
  {
   "cell_type": "markdown",
   "metadata": {},
   "source": [
    "# Train"
   ]
  },
  {
   "cell_type": "code",
   "execution_count": 22,
   "metadata": {},
   "outputs": [],
   "source": [
    "def train_triplet(epochs, train_dataloader, eval_dataloader, model,optimizer_model,margin):\n",
    "    # to track the average training loss per epoch as the model trains\n",
    "    avg_train_losses = []\n",
    "    # to track the training accuracy per epoch as the model trains\n",
    "    train_accuracies = [] \n",
    "    # to track the average validation loss per epoch as the model trains\n",
    "    avg_valid_losses = [] \n",
    "    # to track the validation accuracy per epoch as the model trains\n",
    "    valid_accuracies = [] \n",
    "    # initialize the early_stopping object\n",
    "    early_stopping = EarlyStopping(\"val_acc\",patience=30, verbose=True,delta=0.001)\n",
    "    for epoch in range(epochs):\n",
    "        num_valid_training_triplets = 0\n",
    "        l2_distance = PairwiseDistance(2).cuda()\n",
    "        ###################\n",
    "        # train the model #\n",
    "        ###################\n",
    "        model.train()\n",
    "        # to track the training loss as the model trains\n",
    "        train_losses = []\n",
    "        labels, distances = [], []\n",
    "        for (anc_img,pos_img,neg_img) in tqdm(train_dataloader):\n",
    "            anc_img = anc_img.cuda()\n",
    "            pos_img = pos_img.cuda()\n",
    "            neg_img = neg_img.cuda()\n",
    "            # Forward pass - compute embeddings\n",
    "            anc_embedding, pos_embedding, neg_embedding = model(anc_img), model(pos_img), model(neg_img)\n",
    "            # Forward pass - choose hard negatives only for training\n",
    "            pos_dist = l2_distance.forward(anc_embedding, pos_embedding)\n",
    "            neg_dist = l2_distance.forward(anc_embedding, neg_embedding)\n",
    "            all = (neg_dist - pos_dist < margin).cpu().numpy().flatten()\n",
    "            hard_triplets = np.where(all == 1)\n",
    "            if len(hard_triplets[0]) == 0:\n",
    "                continue\n",
    "            anc_hard_embedding = anc_embedding[hard_triplets].cuda()\n",
    "            pos_hard_embedding = pos_embedding[hard_triplets].cuda()\n",
    "            neg_hard_embedding = neg_embedding[hard_triplets].cuda()\n",
    "            # Calculate triplet loss\n",
    "            triplet_loss = nn.TripletMarginLoss(margin=margin, p=2)\n",
    "            output= triplet_loss(\n",
    "                anchor=anc_hard_embedding,\n",
    "                positive=pos_hard_embedding,\n",
    "                negative=neg_hard_embedding\n",
    "            ).cuda()\n",
    "            # Calculating loss\n",
    "            train_losses.append(output.item())\n",
    "            num_valid_training_triplets += len(anc_hard_embedding)\n",
    "            # Backward pass\n",
    "            optimizer_model.zero_grad()\n",
    "            output.backward()\n",
    "            optimizer_model.step()\n",
    "            #检测accuracy\n",
    "            distances.append(neg_dist.data.cpu().numpy())\n",
    "            labels.append(np.zeros(neg_dist.size(0)))\n",
    "            distances.append(pos_dist.data.cpu().numpy())\n",
    "            labels.append(np.ones(pos_dist.size(0)))\n",
    "        labels = np.array([sublabel for label in labels for sublabel in label])\n",
    "        distances = np.array([subdist for distance in distances for subdist in distance])\n",
    "\n",
    "        true_positive_rate, false_positive_rate, precision, recall, train_accuracy, roc_auc, best_distances, \\\n",
    "        tar, far = evaluate_lfw(\n",
    "            distances=distances,\n",
    "            labels=labels)\n",
    "        # Model only trains on hard negative triplets\n",
    "        avg_triplet_loss = 0 if (num_valid_training_triplets == 0) else np.mean(train_losses)\n",
    "        avg_train_losses.append(avg_triplet_loss)\n",
    "        train_accuracies.append(np.mean(train_accuracy))\n",
    "        # Print training statistics and add to log\n",
    "        print('Epoch {}:\\tAverage Training Triplet Loss: {:.4f}\\t Training Accuracy: {:.4f}+-{:.4f}\\tNumber of valid training triplets in epoch: {} '.format(\n",
    "                epoch + 1,\n",
    "                avg_triplet_loss,\n",
    "                np.mean(train_accuracy),\n",
    "                np.std( train_accuracy),\n",
    "                num_valid_training_triplets\n",
    "            )\n",
    "        ) \n",
    "        ######################    \n",
    "        # validate the model #\n",
    "        ######################\n",
    "        model.eval() # prep model for evaluation\n",
    "        # to track the validation loss as the model trains\n",
    "        valid_losses = []\n",
    "        labels, distances = [], []\n",
    "        for (anc_img,pos_img,neg_img) in tqdm(eval_dataloader):\n",
    "            anc_img = anc_img.cuda()\n",
    "            pos_img = pos_img.cuda()\n",
    "            neg_img = neg_img.cuda()\n",
    "            # Forward pass - compute embeddings\n",
    "            anc_embedding, pos_embedding, neg_embedding = model(anc_img), model(pos_img), model(neg_img)\n",
    "            # Forward pass - choose hard negatives only for training\n",
    "            pos_dist = l2_distance.forward(anc_embedding, pos_embedding)\n",
    "            neg_dist = l2_distance.forward(anc_embedding, neg_embedding)\n",
    "            # Calculate triplet loss\n",
    "            triplet_loss = nn.TripletMarginLoss(margin=margin, p=2)\n",
    "            output= triplet_loss(\n",
    "                anchor=anc_embedding,\n",
    "                positive=pos_embedding,\n",
    "                negative=neg_embedding\n",
    "            ).cuda()\n",
    "            # Calculating loss\n",
    "            valid_losses.append(output.item())\n",
    "            #检测accuracy\n",
    "            distances.append(neg_dist.data.cpu().numpy())\n",
    "            labels.append(np.zeros(neg_dist.size(0)))\n",
    "            distances.append(pos_dist.data.cpu().numpy())\n",
    "            labels.append(np.ones(pos_dist.size(0)))\n",
    "        labels = np.array([sublabel for label in labels for sublabel in label])\n",
    "        distances = np.array([subdist for distance in distances for subdist in distance])\n",
    "\n",
    "        true_positive_rate, false_positive_rate, precision, recall, valid_accuracy, roc_auc, best_distances, \\\n",
    "        tar, far = evaluate_lfw(\n",
    "            distances=distances,\n",
    "            labels=labels)\n",
    "        \n",
    "        print('Epoch {}:\\tAverage Valid Triplet Loss: {:.4f}\\t Valid Accuracy: {:.4f}+-{:.4f}'.format(\n",
    "                epoch + 1,\n",
    "                np.mean(valid_losses),\n",
    "                np.mean(valid_accuracy),\n",
    "                np.std( valid_accuracy)\n",
    "            )\n",
    "        ) \n",
    "        avg_valid_losses.append(np.mean(valid_losses))\n",
    "        valid_accuracies.append(np.mean(valid_accuracy))\n",
    "        \n",
    "        \n",
    "        # early_stopping needs the validation acc to check if it has incresed, \n",
    "        # and if it has, it will make a checkpoint of the current model\n",
    "        early_stopping(np.mean(valid_accuracy), model)\n",
    "        \n",
    "        if early_stopping.early_stop:\n",
    "            print(\"Early stopping\")\n",
    "            break\n",
    "\n",
    "    model.load_state_dict(torch.load('checkpoint.pt'))\n",
    "    print(\"Done!\")\n",
    "    return model, avg_train_losses, avg_valid_losses,train_accuracies,valid_accuracies"
   ]
  },
  {
   "cell_type": "markdown",
   "metadata": {},
   "source": [
    "# 在LFW数据集上validate测试"
   ]
  },
  {
   "cell_type": "code",
   "execution_count": 23,
   "metadata": {},
   "outputs": [],
   "source": [
    "def validate_lfw(model, lfw_dataloader, model_architecture, epoch, epochs):\n",
    "    model.eval()\n",
    "    with torch.no_grad():\n",
    "        l2_distance = PairwiseDistance(2).cuda()\n",
    "        distances, labels = [], []\n",
    "\n",
    "        print(\"Validating on LFW! ...\")\n",
    "\n",
    "        for batch_index, (data_a, data_b, label) in tqdm(lfw_dataloader):\n",
    "            data_a, data_b, label = data_a.cuda(), data_b.cuda(), label.cuda()\n",
    "\n",
    "            output_a, output_b = model(data_a), model(data_b)\n",
    "            distance = l2_distance.forward(output_a, output_b)  # Euclidean distance\n",
    "\n",
    "            distances.append(distance.cpu().detach().numpy())\n",
    "            labels.append(label.cpu().detach().numpy())\n",
    "\n",
    "        labels = np.array([sublabel for label in labels for sublabel in label])\n",
    "        distances = np.array([subdist for distance in distances for subdist in distance])\n",
    "\n",
    "        true_positive_rate, false_positive_rate, precision, recall, accuracy, roc_auc, best_distances, \\\n",
    "        tar, far = evaluate_lfw(\n",
    "            distances=distances,\n",
    "            labels=labels\n",
    "        )\n",
    "        # Print statistics and add to log\n",
    "        print(\"Accuracy on LFW: {:.4f}+-{:.4f}\\tPrecision {:.4f}+-{:.4f}\\tRecall {:.4f}+-{:.4f}\\t\"\n",
    "              \"ROC Area Under Curve: {:.4f}\\tBest distance threshold: {:.2f}+-{:.2f}\\t\"\n",
    "              \"TAR: {:.4f}+-{:.4f} @ FAR: {:.4f}\".format(\n",
    "                np.mean(accuracy),\n",
    "                np.std(accuracy),\n",
    "                np.mean(precision),\n",
    "                np.std(precision),\n",
    "                np.mean(recall),\n",
    "                np.std(recall),\n",
    "                roc_auc,\n",
    "                np.mean(best_distances),\n",
    "                np.std(best_distances),\n",
    "                np.mean(tar),\n",
    "                np.std(tar),\n",
    "                np.mean(far)\n",
    "            )\n",
    "        )\n",
    "        with open('logs/lfw_{}_log_triplet.txt'.format(model_architecture), 'a') as f:\n",
    "            val_list = [\n",
    "                epoch + 1,\n",
    "                np.mean(accuracy),\n",
    "                np.std(accuracy),\n",
    "                np.mean(precision),\n",
    "                np.std(precision),\n",
    "                np.mean(recall),\n",
    "                np.std(recall),\n",
    "                roc_auc,\n",
    "                np.mean(best_distances),\n",
    "                np.std(best_distances),\n",
    "                np.mean(tar)\n",
    "            ]\n",
    "            log = '\\t'.join(str(value) for value in val_list)\n",
    "            f.writelines(log + '\\n')\n",
    "    try:\n",
    "        # Plot ROC curve\n",
    "        plot_roc_lfw(\n",
    "            false_positive_rate=false_positive_rate,\n",
    "            true_positive_rate=true_positive_rate,\n",
    "            figure_name=\"plots/roc_plots/roc_{}_epoch_{}_triplet.png\".format(model_architecture, epoch + 1)\n",
    "        )\n",
    "    except Exception as e:\n",
    "        print(e)\n",
    "        \n",
    "    return best_distances"
   ]
  },
  {
   "cell_type": "markdown",
   "metadata": {},
   "source": [
    "# 设立dataloaders"
   ]
  },
  {
   "cell_type": "code",
   "execution_count": 24,
   "metadata": {},
   "outputs": [],
   "source": [
    "dataroot = args.dataroot\n",
    "lfw_dataroot = args.lfw\n",
    "dataset_csv = args.dataset_csv\n",
    "lfw_batch_size = args.lfw_batch_size\n",
    "num_triplets_train = args.num_triplets_train\n",
    "model_architecture = args.model\n",
    "epochs = args.epochs\n",
    "embedding_dimension = args.embedding_dim\n",
    "pretrained = args.pretrained\n",
    "optimizer = args.optimizer\n",
    "learning_rate = args.lr\n",
    "margin = args.margin\n",
    "batch_size = args.batch_size\n",
    "num_workers = args.num_workers\n",
    "\n",
    "#Set dataloaders\n",
    "trainSet = IFWdataset('train',dataroot)\n",
    "train_dataloader = DataLoader(\n",
    "    trainSet, \n",
    "    batch_size=batch_size, \n",
    "    shuffle=True, \n",
    "    num_workers=num_workers,\n",
    "    pin_memory=False)\n",
    "\n",
    "evalSet = IFWdataset('test',dataroot)\n",
    "eval_dataloader = DataLoader(\n",
    "    evalSet, \n",
    "    batch_size=lfw_batch_size,\n",
    "    shuffle=True, \n",
    "    num_workers=num_workers,\n",
    "    pin_memory=False)\n",
    "\n",
    "\n",
    "# lfw_valid_dataset=LFWDataset(\n",
    "#         dir=lfw_dataroot,\n",
    "#         pairs_path='datasets/LFW_pairs.txt',\n",
    "#         #pairs_path='txt/pairsDevTest.txt',\n",
    "#         transform=lfw_transforms\n",
    "#     )\n",
    "# lfw_dataloader = DataLoader(\n",
    "#     lfw_valid_dataset,\n",
    "#     batch_size=lfw_batch_size,\n",
    "#     num_workers=num_workers,\n",
    "#     shuffle=False\n",
    "# )"
   ]
  },
  {
   "cell_type": "markdown",
   "metadata": {},
   "source": [
    "# 初始化model，设定 optimizer，learning_rate"
   ]
  },
  {
   "cell_type": "code",
   "execution_count": 25,
   "metadata": {},
   "outputs": [
    {
     "name": "stderr",
     "output_type": "stream",
     "text": [
      "Using cache found in /home/jovyan/.cache/torch/hub/pytorch_vision_v0.6.0\n"
     ]
    },
    {
     "name": "stdout",
     "output_type": "stream",
     "text": [
      "Using resnet18 model architecture.\n",
      "Using single-gpu training.\n"
     ]
    }
   ],
   "source": [
    "# Instantiate model\n",
    "model = set_model_architecture(\n",
    "    model_architecture=model_architecture,\n",
    "    pretrained=pretrained,\n",
    "    embedding_dimension=embedding_dimension\n",
    ")\n",
    "\n",
    "# # 利用pretrain的model\n",
    "\n",
    "# checkpoint = torch.load('model_resnet34_triplet.pt')\n",
    "# model = Resnet34Triplet(embedding_dimension=checkpoint['embedding_dimension'])\n",
    "# model.load_state_dict(checkpoint['model_state_dict'])\n",
    "# best_distance_threshold = checkpoint['best_distance_threshold']\n",
    "\n",
    "\n",
    "\n",
    "# Load model to GPU or multiple GPUs if available\n",
    "model, flag_train_multi_gpu = set_model_gpu_mode(model)\n",
    "\n",
    "# Set optimizer\n",
    "optimizer_model = set_optimizer(\n",
    "    optimizer=optimizer,\n",
    "    model=model,\n",
    "    learning_rate=learning_rate\n",
    ")\n"
   ]
  },
  {
   "cell_type": "markdown",
   "metadata": {},
   "source": [
    "# 开始训练"
   ]
  },
  {
   "cell_type": "code",
   "execution_count": 26,
   "metadata": {},
   "outputs": [
    {
     "name": "stderr",
     "output_type": "stream",
     "text": [
      "100%|██████████| 74/74 [00:30<00:00,  2.41it/s]\n",
      "  0%|          | 0/8 [00:00<?, ?it/s]"
     ]
    },
    {
     "name": "stdout",
     "output_type": "stream",
     "text": [
      "Epoch 1:\tAverage Training Triplet Loss: 1.0894\t Training Accuracy: 0.5503+-0.0364\tNumber of valid training triplets in epoch: 616 \n"
     ]
    },
    {
     "name": "stderr",
     "output_type": "stream",
     "text": [
      "100%|██████████| 8/8 [00:09<00:00,  1.15s/it]\n"
     ]
    },
    {
     "name": "stdout",
     "output_type": "stream",
     "text": [
      "Epoch 1:\tAverage Valid Triplet Loss: 0.4259\t Valid Accuracy: 0.5907+-0.0294\n",
      "Validation accuracy increased (0.000000% --> 0.590717%).  Saving model ...\n"
     ]
    },
    {
     "name": "stderr",
     "output_type": "stream",
     "text": [
      "100%|██████████| 74/74 [00:30<00:00,  2.41it/s]\n",
      "  0%|          | 0/8 [00:00<?, ?it/s]"
     ]
    },
    {
     "name": "stdout",
     "output_type": "stream",
     "text": [
      "Epoch 2:\tAverage Training Triplet Loss: 0.5974\t Training Accuracy: 0.6221+-0.0231\tNumber of valid training triplets in epoch: 741 \n"
     ]
    },
    {
     "name": "stderr",
     "output_type": "stream",
     "text": [
      "100%|██████████| 8/8 [00:09<00:00,  1.13s/it]\n"
     ]
    },
    {
     "name": "stdout",
     "output_type": "stream",
     "text": [
      "Epoch 2:\tAverage Valid Triplet Loss: 0.3399\t Valid Accuracy: 0.6612+-0.0395\n",
      "Validation accuracy increased (0.590717% --> 0.661162%).  Saving model ...\n"
     ]
    },
    {
     "name": "stderr",
     "output_type": "stream",
     "text": [
      "100%|██████████| 74/74 [00:30<00:00,  2.44it/s]\n",
      "  0%|          | 0/8 [00:00<?, ?it/s]"
     ]
    },
    {
     "name": "stdout",
     "output_type": "stream",
     "text": [
      "Epoch 3:\tAverage Training Triplet Loss: 0.5847\t Training Accuracy: 0.6546+-0.0377\tNumber of valid training triplets in epoch: 662 \n"
     ]
    },
    {
     "name": "stderr",
     "output_type": "stream",
     "text": [
      "100%|██████████| 8/8 [00:08<00:00,  1.06s/it]\n",
      "  0%|          | 0/74 [00:00<?, ?it/s]"
     ]
    },
    {
     "name": "stdout",
     "output_type": "stream",
     "text": [
      "Epoch 3:\tAverage Valid Triplet Loss: 0.3814\t Valid Accuracy: 0.5948+-0.0361\n",
      "EarlyStopping counter: 1 out of 30\n"
     ]
    },
    {
     "name": "stderr",
     "output_type": "stream",
     "text": [
      "100%|██████████| 74/74 [00:30<00:00,  2.43it/s]\n",
      "  0%|          | 0/8 [00:00<?, ?it/s]"
     ]
    },
    {
     "name": "stdout",
     "output_type": "stream",
     "text": [
      "Epoch 4:\tAverage Training Triplet Loss: 0.5574\t Training Accuracy: 0.6588+-0.0164\tNumber of valid training triplets in epoch: 628 \n"
     ]
    },
    {
     "name": "stderr",
     "output_type": "stream",
     "text": [
      "100%|██████████| 8/8 [00:09<00:00,  1.19s/it]\n",
      "  0%|          | 0/74 [00:00<?, ?it/s]"
     ]
    },
    {
     "name": "stdout",
     "output_type": "stream",
     "text": [
      "Epoch 4:\tAverage Valid Triplet Loss: 0.3929\t Valid Accuracy: 0.6391+-0.0492\n",
      "EarlyStopping counter: 2 out of 30\n"
     ]
    },
    {
     "name": "stderr",
     "output_type": "stream",
     "text": [
      "100%|██████████| 74/74 [00:30<00:00,  2.43it/s]\n",
      "  0%|          | 0/8 [00:00<?, ?it/s]"
     ]
    },
    {
     "name": "stdout",
     "output_type": "stream",
     "text": [
      "Epoch 5:\tAverage Training Triplet Loss: 0.5887\t Training Accuracy: 0.6664+-0.0294\tNumber of valid training triplets in epoch: 641 \n"
     ]
    },
    {
     "name": "stderr",
     "output_type": "stream",
     "text": [
      "100%|██████████| 8/8 [00:09<00:00,  1.18s/it]\n",
      "  0%|          | 0/74 [00:00<?, ?it/s]"
     ]
    },
    {
     "name": "stdout",
     "output_type": "stream",
     "text": [
      "Epoch 5:\tAverage Valid Triplet Loss: 0.3539\t Valid Accuracy: 0.6461+-0.0528\n",
      "EarlyStopping counter: 3 out of 30\n"
     ]
    },
    {
     "name": "stderr",
     "output_type": "stream",
     "text": [
      "100%|██████████| 74/74 [00:31<00:00,  2.34it/s]\n",
      "  0%|          | 0/8 [00:00<?, ?it/s]"
     ]
    },
    {
     "name": "stdout",
     "output_type": "stream",
     "text": [
      "Epoch 6:\tAverage Training Triplet Loss: 0.5394\t Training Accuracy: 0.6807+-0.0303\tNumber of valid training triplets in epoch: 600 \n"
     ]
    },
    {
     "name": "stderr",
     "output_type": "stream",
     "text": [
      "100%|██████████| 8/8 [00:08<00:00,  1.08s/it]\n",
      "  0%|          | 0/74 [00:00<?, ?it/s]"
     ]
    },
    {
     "name": "stdout",
     "output_type": "stream",
     "text": [
      "Epoch 6:\tAverage Valid Triplet Loss: 0.3174\t Valid Accuracy: 0.6180+-0.0205\n",
      "EarlyStopping counter: 4 out of 30\n"
     ]
    },
    {
     "name": "stderr",
     "output_type": "stream",
     "text": [
      "100%|██████████| 74/74 [00:30<00:00,  2.42it/s]\n",
      "  0%|          | 0/8 [00:00<?, ?it/s]"
     ]
    },
    {
     "name": "stdout",
     "output_type": "stream",
     "text": [
      "Epoch 7:\tAverage Training Triplet Loss: 0.5496\t Training Accuracy: 0.7086+-0.0332\tNumber of valid training triplets in epoch: 580 \n"
     ]
    },
    {
     "name": "stderr",
     "output_type": "stream",
     "text": [
      "100%|██████████| 8/8 [00:08<00:00,  1.07s/it]\n",
      "  0%|          | 0/74 [00:00<?, ?it/s]"
     ]
    },
    {
     "name": "stdout",
     "output_type": "stream",
     "text": [
      "Epoch 7:\tAverage Valid Triplet Loss: 0.3687\t Valid Accuracy: 0.6038+-0.0475\n",
      "EarlyStopping counter: 5 out of 30\n"
     ]
    },
    {
     "name": "stderr",
     "output_type": "stream",
     "text": [
      "100%|██████████| 74/74 [00:30<00:00,  2.45it/s]\n",
      "  0%|          | 0/8 [00:00<?, ?it/s]"
     ]
    },
    {
     "name": "stdout",
     "output_type": "stream",
     "text": [
      "Epoch 8:\tAverage Training Triplet Loss: 0.5216\t Training Accuracy: 0.7044+-0.0241\tNumber of valid training triplets in epoch: 603 \n"
     ]
    },
    {
     "name": "stderr",
     "output_type": "stream",
     "text": [
      "100%|██████████| 8/8 [00:09<00:00,  1.15s/it]\n"
     ]
    },
    {
     "name": "stdout",
     "output_type": "stream",
     "text": [
      "Epoch 8:\tAverage Valid Triplet Loss: 0.2842\t Valid Accuracy: 0.6976+-0.0481\n",
      "Validation accuracy increased (0.661162% --> 0.697626%).  Saving model ...\n"
     ]
    },
    {
     "name": "stderr",
     "output_type": "stream",
     "text": [
      "100%|██████████| 74/74 [00:30<00:00,  2.40it/s]\n",
      "  0%|          | 0/8 [00:00<?, ?it/s]"
     ]
    },
    {
     "name": "stdout",
     "output_type": "stream",
     "text": [
      "Epoch 9:\tAverage Training Triplet Loss: 0.5437\t Training Accuracy: 0.7246+-0.0306\tNumber of valid training triplets in epoch: 532 \n"
     ]
    },
    {
     "name": "stderr",
     "output_type": "stream",
     "text": [
      "100%|██████████| 8/8 [00:09<00:00,  1.16s/it]\n",
      "  0%|          | 0/74 [00:00<?, ?it/s]"
     ]
    },
    {
     "name": "stdout",
     "output_type": "stream",
     "text": [
      "Epoch 9:\tAverage Valid Triplet Loss: 0.2961\t Valid Accuracy: 0.6815+-0.0339\n",
      "EarlyStopping counter: 1 out of 30\n"
     ]
    },
    {
     "name": "stderr",
     "output_type": "stream",
     "text": [
      "100%|██████████| 74/74 [00:30<00:00,  2.46it/s]\n",
      "  0%|          | 0/8 [00:00<?, ?it/s]"
     ]
    },
    {
     "name": "stdout",
     "output_type": "stream",
     "text": [
      "Epoch 10:\tAverage Training Triplet Loss: 0.5393\t Training Accuracy: 0.7124+-0.0144\tNumber of valid training triplets in epoch: 511 \n"
     ]
    },
    {
     "name": "stderr",
     "output_type": "stream",
     "text": [
      "100%|██████████| 8/8 [00:08<00:00,  1.12s/it]\n",
      "  0%|          | 0/74 [00:00<?, ?it/s]"
     ]
    },
    {
     "name": "stdout",
     "output_type": "stream",
     "text": [
      "Epoch 10:\tAverage Valid Triplet Loss: 0.2781\t Valid Accuracy: 0.6945+-0.0466\n",
      "EarlyStopping counter: 2 out of 30\n"
     ]
    },
    {
     "name": "stderr",
     "output_type": "stream",
     "text": [
      "100%|██████████| 74/74 [00:31<00:00,  2.38it/s]\n",
      "  0%|          | 0/8 [00:00<?, ?it/s]"
     ]
    },
    {
     "name": "stdout",
     "output_type": "stream",
     "text": [
      "Epoch 11:\tAverage Training Triplet Loss: 0.5091\t Training Accuracy: 0.7242+-0.0392\tNumber of valid training triplets in epoch: 572 \n"
     ]
    },
    {
     "name": "stderr",
     "output_type": "stream",
     "text": [
      "100%|██████████| 8/8 [00:09<00:00,  1.18s/it]\n"
     ]
    },
    {
     "name": "stdout",
     "output_type": "stream",
     "text": [
      "Epoch 11:\tAverage Valid Triplet Loss: 0.2372\t Valid Accuracy: 0.7329+-0.0358\n",
      "Validation accuracy increased (0.697626% --> 0.732909%).  Saving model ...\n"
     ]
    },
    {
     "name": "stderr",
     "output_type": "stream",
     "text": [
      "100%|██████████| 74/74 [00:30<00:00,  2.43it/s]\n",
      "  0%|          | 0/8 [00:00<?, ?it/s]"
     ]
    },
    {
     "name": "stdout",
     "output_type": "stream",
     "text": [
      "Epoch 12:\tAverage Training Triplet Loss: 0.5240\t Training Accuracy: 0.7395+-0.0256\tNumber of valid training triplets in epoch: 498 \n"
     ]
    },
    {
     "name": "stderr",
     "output_type": "stream",
     "text": [
      "100%|██████████| 8/8 [00:08<00:00,  1.09s/it]\n",
      "  0%|          | 0/74 [00:00<?, ?it/s]"
     ]
    },
    {
     "name": "stdout",
     "output_type": "stream",
     "text": [
      "Epoch 12:\tAverage Valid Triplet Loss: 0.2896\t Valid Accuracy: 0.6755+-0.0455\n",
      "EarlyStopping counter: 1 out of 30\n"
     ]
    },
    {
     "name": "stderr",
     "output_type": "stream",
     "text": [
      "100%|██████████| 74/74 [00:30<00:00,  2.44it/s]\n",
      "  0%|          | 0/8 [00:00<?, ?it/s]"
     ]
    },
    {
     "name": "stdout",
     "output_type": "stream",
     "text": [
      "Epoch 13:\tAverage Training Triplet Loss: 0.5163\t Training Accuracy: 0.7436+-0.0267\tNumber of valid training triplets in epoch: 475 \n"
     ]
    },
    {
     "name": "stderr",
     "output_type": "stream",
     "text": [
      "100%|██████████| 8/8 [00:09<00:00,  1.18s/it]\n",
      "  0%|          | 0/74 [00:00<?, ?it/s]"
     ]
    },
    {
     "name": "stdout",
     "output_type": "stream",
     "text": [
      "Epoch 13:\tAverage Valid Triplet Loss: 0.2482\t Valid Accuracy: 0.7198+-0.0480\n",
      "EarlyStopping counter: 2 out of 30\n"
     ]
    },
    {
     "name": "stderr",
     "output_type": "stream",
     "text": [
      "100%|██████████| 74/74 [00:30<00:00,  2.42it/s]\n",
      "  0%|          | 0/8 [00:00<?, ?it/s]"
     ]
    },
    {
     "name": "stdout",
     "output_type": "stream",
     "text": [
      "Epoch 14:\tAverage Training Triplet Loss: 0.5275\t Training Accuracy: 0.7395+-0.0219\tNumber of valid training triplets in epoch: 499 \n"
     ]
    },
    {
     "name": "stderr",
     "output_type": "stream",
     "text": [
      "100%|██████████| 8/8 [00:09<00:00,  1.14s/it]\n",
      "  0%|          | 0/74 [00:00<?, ?it/s]"
     ]
    },
    {
     "name": "stdout",
     "output_type": "stream",
     "text": [
      "Epoch 14:\tAverage Valid Triplet Loss: 0.2390\t Valid Accuracy: 0.7108+-0.0369\n",
      "EarlyStopping counter: 3 out of 30\n"
     ]
    },
    {
     "name": "stderr",
     "output_type": "stream",
     "text": [
      "100%|██████████| 74/74 [00:30<00:00,  2.44it/s]\n",
      "  0%|          | 0/8 [00:00<?, ?it/s]"
     ]
    },
    {
     "name": "stdout",
     "output_type": "stream",
     "text": [
      "Epoch 15:\tAverage Training Triplet Loss: 0.5311\t Training Accuracy: 0.7357+-0.0299\tNumber of valid training triplets in epoch: 492 \n"
     ]
    },
    {
     "name": "stderr",
     "output_type": "stream",
     "text": [
      "100%|██████████| 8/8 [00:09<00:00,  1.14s/it]\n",
      "  0%|          | 0/74 [00:00<?, ?it/s]"
     ]
    },
    {
     "name": "stdout",
     "output_type": "stream",
     "text": [
      "Epoch 15:\tAverage Valid Triplet Loss: 0.2538\t Valid Accuracy: 0.7136+-0.0471\n",
      "EarlyStopping counter: 4 out of 30\n"
     ]
    },
    {
     "name": "stderr",
     "output_type": "stream",
     "text": [
      "100%|██████████| 74/74 [00:31<00:00,  2.38it/s]\n",
      "  0%|          | 0/8 [00:00<?, ?it/s]"
     ]
    },
    {
     "name": "stdout",
     "output_type": "stream",
     "text": [
      "Epoch 16:\tAverage Training Triplet Loss: 0.5290\t Training Accuracy: 0.7403+-0.0363\tNumber of valid training triplets in epoch: 465 \n"
     ]
    },
    {
     "name": "stderr",
     "output_type": "stream",
     "text": [
      "100%|██████████| 8/8 [00:09<00:00,  1.19s/it]\n",
      "  0%|          | 0/74 [00:00<?, ?it/s]"
     ]
    },
    {
     "name": "stdout",
     "output_type": "stream",
     "text": [
      "Epoch 16:\tAverage Valid Triplet Loss: 0.2559\t Valid Accuracy: 0.7126+-0.0380\n",
      "EarlyStopping counter: 5 out of 30\n"
     ]
    },
    {
     "name": "stderr",
     "output_type": "stream",
     "text": [
      "100%|██████████| 74/74 [00:29<00:00,  2.48it/s]\n",
      "  0%|          | 0/8 [00:00<?, ?it/s]"
     ]
    },
    {
     "name": "stdout",
     "output_type": "stream",
     "text": [
      "Epoch 17:\tAverage Training Triplet Loss: 0.5272\t Training Accuracy: 0.7325+-0.0383\tNumber of valid training triplets in epoch: 496 \n"
     ]
    },
    {
     "name": "stderr",
     "output_type": "stream",
     "text": [
      "100%|██████████| 8/8 [00:08<00:00,  1.01s/it]\n",
      "  0%|          | 0/74 [00:00<?, ?it/s]"
     ]
    },
    {
     "name": "stdout",
     "output_type": "stream",
     "text": [
      "Epoch 17:\tAverage Valid Triplet Loss: 0.2350\t Valid Accuracy: 0.7118+-0.0455\n",
      "EarlyStopping counter: 6 out of 30\n"
     ]
    },
    {
     "name": "stderr",
     "output_type": "stream",
     "text": [
      "100%|██████████| 74/74 [00:30<00:00,  2.44it/s]\n",
      "  0%|          | 0/8 [00:00<?, ?it/s]"
     ]
    },
    {
     "name": "stdout",
     "output_type": "stream",
     "text": [
      "Epoch 18:\tAverage Training Triplet Loss: 0.5248\t Training Accuracy: 0.7665+-0.0315\tNumber of valid training triplets in epoch: 428 \n"
     ]
    },
    {
     "name": "stderr",
     "output_type": "stream",
     "text": [
      "100%|██████████| 8/8 [00:09<00:00,  1.17s/it]\n",
      "  0%|          | 0/74 [00:00<?, ?it/s]"
     ]
    },
    {
     "name": "stdout",
     "output_type": "stream",
     "text": [
      "Epoch 18:\tAverage Valid Triplet Loss: 0.2799\t Valid Accuracy: 0.7058+-0.0475\n",
      "EarlyStopping counter: 7 out of 30\n"
     ]
    },
    {
     "name": "stderr",
     "output_type": "stream",
     "text": [
      "100%|██████████| 74/74 [00:30<00:00,  2.43it/s]\n",
      "  0%|          | 0/8 [00:00<?, ?it/s]"
     ]
    },
    {
     "name": "stdout",
     "output_type": "stream",
     "text": [
      "Epoch 19:\tAverage Training Triplet Loss: 0.5387\t Training Accuracy: 0.7471+-0.0256\tNumber of valid training triplets in epoch: 448 \n"
     ]
    },
    {
     "name": "stderr",
     "output_type": "stream",
     "text": [
      "100%|██████████| 8/8 [00:09<00:00,  1.13s/it]\n",
      "  0%|          | 0/74 [00:00<?, ?it/s]"
     ]
    },
    {
     "name": "stdout",
     "output_type": "stream",
     "text": [
      "Epoch 19:\tAverage Valid Triplet Loss: 0.2702\t Valid Accuracy: 0.6905+-0.0451\n",
      "EarlyStopping counter: 8 out of 30\n"
     ]
    },
    {
     "name": "stderr",
     "output_type": "stream",
     "text": [
      "100%|██████████| 74/74 [00:30<00:00,  2.46it/s]\n",
      "  0%|          | 0/8 [00:00<?, ?it/s]"
     ]
    },
    {
     "name": "stdout",
     "output_type": "stream",
     "text": [
      "Epoch 20:\tAverage Training Triplet Loss: 0.5116\t Training Accuracy: 0.7605+-0.0306\tNumber of valid training triplets in epoch: 420 \n"
     ]
    },
    {
     "name": "stderr",
     "output_type": "stream",
     "text": [
      "100%|██████████| 8/8 [00:08<00:00,  1.10s/it]\n",
      "  0%|          | 0/74 [00:00<?, ?it/s]"
     ]
    },
    {
     "name": "stdout",
     "output_type": "stream",
     "text": [
      "Epoch 20:\tAverage Valid Triplet Loss: 0.2650\t Valid Accuracy: 0.6925+-0.0380\n",
      "EarlyStopping counter: 9 out of 30\n"
     ]
    },
    {
     "name": "stderr",
     "output_type": "stream",
     "text": [
      "100%|██████████| 74/74 [00:31<00:00,  2.38it/s]\n",
      "  0%|          | 0/8 [00:00<?, ?it/s]"
     ]
    },
    {
     "name": "stdout",
     "output_type": "stream",
     "text": [
      "Epoch 21:\tAverage Training Triplet Loss: 0.4924\t Training Accuracy: 0.7525+-0.0325\tNumber of valid training triplets in epoch: 472 \n"
     ]
    },
    {
     "name": "stderr",
     "output_type": "stream",
     "text": [
      "100%|██████████| 8/8 [00:09<00:00,  1.18s/it]\n",
      "  0%|          | 0/74 [00:00<?, ?it/s]"
     ]
    },
    {
     "name": "stdout",
     "output_type": "stream",
     "text": [
      "Epoch 21:\tAverage Valid Triplet Loss: 0.2420\t Valid Accuracy: 0.7168+-0.0391\n",
      "EarlyStopping counter: 10 out of 30\n"
     ]
    },
    {
     "name": "stderr",
     "output_type": "stream",
     "text": [
      "100%|██████████| 74/74 [00:30<00:00,  2.43it/s]\n",
      "  0%|          | 0/8 [00:00<?, ?it/s]"
     ]
    },
    {
     "name": "stdout",
     "output_type": "stream",
     "text": [
      "Epoch 22:\tAverage Training Triplet Loss: 0.5353\t Training Accuracy: 0.7614+-0.0264\tNumber of valid training triplets in epoch: 420 \n"
     ]
    },
    {
     "name": "stderr",
     "output_type": "stream",
     "text": [
      "100%|██████████| 8/8 [00:09<00:00,  1.18s/it]\n",
      "  0%|          | 0/74 [00:00<?, ?it/s]"
     ]
    },
    {
     "name": "stdout",
     "output_type": "stream",
     "text": [
      "Epoch 22:\tAverage Valid Triplet Loss: 0.2476\t Valid Accuracy: 0.7207+-0.0645\n",
      "EarlyStopping counter: 11 out of 30\n"
     ]
    },
    {
     "name": "stderr",
     "output_type": "stream",
     "text": [
      "100%|██████████| 74/74 [00:30<00:00,  2.46it/s]\n",
      "  0%|          | 0/8 [00:00<?, ?it/s]"
     ]
    },
    {
     "name": "stdout",
     "output_type": "stream",
     "text": [
      "Epoch 23:\tAverage Training Triplet Loss: 0.5161\t Training Accuracy: 0.7707+-0.0201\tNumber of valid training triplets in epoch: 424 \n"
     ]
    },
    {
     "name": "stderr",
     "output_type": "stream",
     "text": [
      "100%|██████████| 8/8 [00:09<00:00,  1.17s/it]\n"
     ]
    },
    {
     "name": "stdout",
     "output_type": "stream",
     "text": [
      "Epoch 23:\tAverage Valid Triplet Loss: 0.1842\t Valid Accuracy: 0.7581+-0.0526\n",
      "Validation accuracy increased (0.732909% --> 0.758071%).  Saving model ...\n"
     ]
    },
    {
     "name": "stderr",
     "output_type": "stream",
     "text": [
      "100%|██████████| 74/74 [00:29<00:00,  2.47it/s]\n",
      "  0%|          | 0/8 [00:00<?, ?it/s]"
     ]
    },
    {
     "name": "stdout",
     "output_type": "stream",
     "text": [
      "Epoch 24:\tAverage Training Triplet Loss: 0.5364\t Training Accuracy: 0.7601+-0.0122\tNumber of valid training triplets in epoch: 432 \n"
     ]
    },
    {
     "name": "stderr",
     "output_type": "stream",
     "text": [
      "100%|██████████| 8/8 [00:08<00:00,  1.04s/it]\n",
      "  0%|          | 0/74 [00:00<?, ?it/s]"
     ]
    },
    {
     "name": "stdout",
     "output_type": "stream",
     "text": [
      "Epoch 24:\tAverage Valid Triplet Loss: 0.2147\t Valid Accuracy: 0.7329+-0.0511\n",
      "EarlyStopping counter: 1 out of 30\n"
     ]
    },
    {
     "name": "stderr",
     "output_type": "stream",
     "text": [
      "100%|██████████| 74/74 [00:30<00:00,  2.45it/s]\n",
      "  0%|          | 0/8 [00:00<?, ?it/s]"
     ]
    },
    {
     "name": "stdout",
     "output_type": "stream",
     "text": [
      "Epoch 25:\tAverage Training Triplet Loss: 0.5280\t Training Accuracy: 0.7597+-0.0356\tNumber of valid training triplets in epoch: 456 \n"
     ]
    },
    {
     "name": "stderr",
     "output_type": "stream",
     "text": [
      "100%|██████████| 8/8 [00:08<00:00,  1.08s/it]\n",
      "  0%|          | 0/74 [00:00<?, ?it/s]"
     ]
    },
    {
     "name": "stdout",
     "output_type": "stream",
     "text": [
      "Epoch 25:\tAverage Valid Triplet Loss: 0.2332\t Valid Accuracy: 0.7420+-0.0463\n",
      "EarlyStopping counter: 2 out of 30\n"
     ]
    },
    {
     "name": "stderr",
     "output_type": "stream",
     "text": [
      "100%|██████████| 74/74 [00:31<00:00,  2.39it/s]\n",
      "  0%|          | 0/8 [00:00<?, ?it/s]"
     ]
    },
    {
     "name": "stdout",
     "output_type": "stream",
     "text": [
      "Epoch 26:\tAverage Training Triplet Loss: 0.4978\t Training Accuracy: 0.7741+-0.0277\tNumber of valid training triplets in epoch: 417 \n"
     ]
    },
    {
     "name": "stderr",
     "output_type": "stream",
     "text": [
      "100%|██████████| 8/8 [00:09<00:00,  1.16s/it]\n",
      "  0%|          | 0/74 [00:00<?, ?it/s]"
     ]
    },
    {
     "name": "stdout",
     "output_type": "stream",
     "text": [
      "Epoch 26:\tAverage Valid Triplet Loss: 0.1950\t Valid Accuracy: 0.7541+-0.0417\n",
      "EarlyStopping counter: 3 out of 30\n"
     ]
    },
    {
     "name": "stderr",
     "output_type": "stream",
     "text": [
      "100%|██████████| 74/74 [00:30<00:00,  2.44it/s]\n",
      "  0%|          | 0/8 [00:00<?, ?it/s]"
     ]
    },
    {
     "name": "stdout",
     "output_type": "stream",
     "text": [
      "Epoch 27:\tAverage Training Triplet Loss: 0.5150\t Training Accuracy: 0.7705+-0.0189\tNumber of valid training triplets in epoch: 412 \n"
     ]
    },
    {
     "name": "stderr",
     "output_type": "stream",
     "text": [
      "100%|██████████| 8/8 [00:08<00:00,  1.12s/it]\n"
     ]
    },
    {
     "name": "stdout",
     "output_type": "stream",
     "text": [
      "Epoch 27:\tAverage Valid Triplet Loss: 0.1970\t Valid Accuracy: 0.7622+-0.0343\n",
      "Validation accuracy increased (0.758071% --> 0.762152%).  Saving model ...\n"
     ]
    },
    {
     "name": "stderr",
     "output_type": "stream",
     "text": [
      "100%|██████████| 74/74 [00:30<00:00,  2.45it/s]\n",
      "  0%|          | 0/8 [00:00<?, ?it/s]"
     ]
    },
    {
     "name": "stdout",
     "output_type": "stream",
     "text": [
      "Epoch 28:\tAverage Training Triplet Loss: 0.4897\t Training Accuracy: 0.7854+-0.0277\tNumber of valid training triplets in epoch: 366 \n"
     ]
    },
    {
     "name": "stderr",
     "output_type": "stream",
     "text": [
      "100%|██████████| 8/8 [00:09<00:00,  1.19s/it]\n"
     ]
    },
    {
     "name": "stdout",
     "output_type": "stream",
     "text": [
      "Epoch 28:\tAverage Valid Triplet Loss: 0.1929\t Valid Accuracy: 0.7641+-0.0268\n",
      "Validation accuracy increased (0.762152% --> 0.764101%).  Saving model ...\n"
     ]
    },
    {
     "name": "stderr",
     "output_type": "stream",
     "text": [
      "100%|██████████| 74/74 [00:30<00:00,  2.44it/s]\n",
      "  0%|          | 0/8 [00:00<?, ?it/s]"
     ]
    },
    {
     "name": "stdout",
     "output_type": "stream",
     "text": [
      "Epoch 29:\tAverage Training Triplet Loss: 0.5270\t Training Accuracy: 0.7909+-0.0217\tNumber of valid training triplets in epoch: 336 \n"
     ]
    },
    {
     "name": "stderr",
     "output_type": "stream",
     "text": [
      "100%|██████████| 8/8 [00:09<00:00,  1.15s/it]\n",
      "  0%|          | 0/74 [00:00<?, ?it/s]"
     ]
    },
    {
     "name": "stdout",
     "output_type": "stream",
     "text": [
      "Epoch 29:\tAverage Valid Triplet Loss: 0.2021\t Valid Accuracy: 0.7611+-0.0505\n",
      "EarlyStopping counter: 1 out of 30\n"
     ]
    },
    {
     "name": "stderr",
     "output_type": "stream",
     "text": [
      "100%|██████████| 74/74 [00:30<00:00,  2.44it/s]\n",
      "  0%|          | 0/8 [00:00<?, ?it/s]"
     ]
    },
    {
     "name": "stdout",
     "output_type": "stream",
     "text": [
      "Epoch 30:\tAverage Training Triplet Loss: 0.5304\t Training Accuracy: 0.7884+-0.0217\tNumber of valid training triplets in epoch: 353 \n"
     ]
    },
    {
     "name": "stderr",
     "output_type": "stream",
     "text": [
      "100%|██████████| 8/8 [00:09<00:00,  1.17s/it]\n"
     ]
    },
    {
     "name": "stdout",
     "output_type": "stream",
     "text": [
      "Epoch 30:\tAverage Valid Triplet Loss: 0.1801\t Valid Accuracy: 0.7763+-0.0534\n",
      "Validation accuracy increased (0.764101% --> 0.776253%).  Saving model ...\n"
     ]
    },
    {
     "name": "stderr",
     "output_type": "stream",
     "text": [
      "100%|██████████| 74/74 [00:30<00:00,  2.40it/s]\n",
      "  0%|          | 0/8 [00:00<?, ?it/s]"
     ]
    },
    {
     "name": "stdout",
     "output_type": "stream",
     "text": [
      "Epoch 31:\tAverage Training Triplet Loss: 0.5142\t Training Accuracy: 0.7859+-0.0240\tNumber of valid training triplets in epoch: 355 \n"
     ]
    },
    {
     "name": "stderr",
     "output_type": "stream",
     "text": [
      "100%|██████████| 8/8 [00:09<00:00,  1.17s/it]\n",
      "  0%|          | 0/74 [00:00<?, ?it/s]"
     ]
    },
    {
     "name": "stdout",
     "output_type": "stream",
     "text": [
      "Epoch 31:\tAverage Valid Triplet Loss: 0.1970\t Valid Accuracy: 0.7612+-0.0454\n",
      "EarlyStopping counter: 1 out of 30\n"
     ]
    },
    {
     "name": "stderr",
     "output_type": "stream",
     "text": [
      "100%|██████████| 74/74 [00:30<00:00,  2.42it/s]\n",
      "  0%|          | 0/8 [00:00<?, ?it/s]"
     ]
    },
    {
     "name": "stdout",
     "output_type": "stream",
     "text": [
      "Epoch 32:\tAverage Training Triplet Loss: 0.5305\t Training Accuracy: 0.7775+-0.0358\tNumber of valid training triplets in epoch: 392 \n"
     ]
    },
    {
     "name": "stderr",
     "output_type": "stream",
     "text": [
      "100%|██████████| 8/8 [00:09<00:00,  1.17s/it]\n",
      "  0%|          | 0/74 [00:00<?, ?it/s]"
     ]
    },
    {
     "name": "stdout",
     "output_type": "stream",
     "text": [
      "Epoch 32:\tAverage Valid Triplet Loss: 0.1760\t Valid Accuracy: 0.7581+-0.0444\n",
      "EarlyStopping counter: 2 out of 30\n"
     ]
    },
    {
     "name": "stderr",
     "output_type": "stream",
     "text": [
      "100%|██████████| 74/74 [00:30<00:00,  2.46it/s]\n",
      "  0%|          | 0/8 [00:00<?, ?it/s]"
     ]
    },
    {
     "name": "stdout",
     "output_type": "stream",
     "text": [
      "Epoch 33:\tAverage Training Triplet Loss: 0.5020\t Training Accuracy: 0.7981+-0.0254\tNumber of valid training triplets in epoch: 365 \n"
     ]
    },
    {
     "name": "stderr",
     "output_type": "stream",
     "text": [
      "100%|██████████| 8/8 [00:08<00:00,  1.11s/it]\n",
      "  0%|          | 0/74 [00:00<?, ?it/s]"
     ]
    },
    {
     "name": "stdout",
     "output_type": "stream",
     "text": [
      "Epoch 33:\tAverage Valid Triplet Loss: 0.2345\t Valid Accuracy: 0.7692+-0.0556\n",
      "EarlyStopping counter: 3 out of 30\n"
     ]
    },
    {
     "name": "stderr",
     "output_type": "stream",
     "text": [
      "100%|██████████| 74/74 [00:30<00:00,  2.46it/s]\n",
      "  0%|          | 0/8 [00:00<?, ?it/s]"
     ]
    },
    {
     "name": "stdout",
     "output_type": "stream",
     "text": [
      "Epoch 34:\tAverage Training Triplet Loss: 0.4992\t Training Accuracy: 0.7956+-0.0225\tNumber of valid training triplets in epoch: 355 \n"
     ]
    },
    {
     "name": "stderr",
     "output_type": "stream",
     "text": [
      "100%|██████████| 8/8 [00:08<00:00,  1.11s/it]\n",
      "  0%|          | 0/74 [00:00<?, ?it/s]"
     ]
    },
    {
     "name": "stdout",
     "output_type": "stream",
     "text": [
      "Epoch 34:\tAverage Valid Triplet Loss: 0.1922\t Valid Accuracy: 0.7731+-0.0410\n",
      "EarlyStopping counter: 4 out of 30\n"
     ]
    },
    {
     "name": "stderr",
     "output_type": "stream",
     "text": [
      "100%|██████████| 74/74 [00:30<00:00,  2.44it/s]\n",
      "  0%|          | 0/8 [00:00<?, ?it/s]"
     ]
    },
    {
     "name": "stdout",
     "output_type": "stream",
     "text": [
      "Epoch 35:\tAverage Training Triplet Loss: 0.5145\t Training Accuracy: 0.8053+-0.0323\tNumber of valid training triplets in epoch: 329 \n"
     ]
    },
    {
     "name": "stderr",
     "output_type": "stream",
     "text": [
      "100%|██████████| 8/8 [00:09<00:00,  1.18s/it]\n",
      "  0%|          | 0/74 [00:00<?, ?it/s]"
     ]
    },
    {
     "name": "stdout",
     "output_type": "stream",
     "text": [
      "Epoch 35:\tAverage Valid Triplet Loss: 0.2151\t Valid Accuracy: 0.7379+-0.0340\n",
      "EarlyStopping counter: 5 out of 30\n"
     ]
    },
    {
     "name": "stderr",
     "output_type": "stream",
     "text": [
      "100%|██████████| 74/74 [00:31<00:00,  2.35it/s]\n",
      "  0%|          | 0/8 [00:00<?, ?it/s]"
     ]
    },
    {
     "name": "stdout",
     "output_type": "stream",
     "text": [
      "Epoch 36:\tAverage Training Triplet Loss: 0.5719\t Training Accuracy: 0.7766+-0.0229\tNumber of valid training triplets in epoch: 364 \n"
     ]
    },
    {
     "name": "stderr",
     "output_type": "stream",
     "text": [
      "100%|██████████| 8/8 [00:08<00:00,  1.07s/it]\n",
      "  0%|          | 0/74 [00:00<?, ?it/s]"
     ]
    },
    {
     "name": "stdout",
     "output_type": "stream",
     "text": [
      "Epoch 36:\tAverage Valid Triplet Loss: 0.1822\t Valid Accuracy: 0.7701+-0.0347\n",
      "EarlyStopping counter: 6 out of 30\n"
     ]
    },
    {
     "name": "stderr",
     "output_type": "stream",
     "text": [
      "100%|██████████| 74/74 [00:30<00:00,  2.45it/s]\n",
      "  0%|          | 0/8 [00:00<?, ?it/s]"
     ]
    },
    {
     "name": "stdout",
     "output_type": "stream",
     "text": [
      "Epoch 37:\tAverage Training Triplet Loss: 0.4734\t Training Accuracy: 0.7884+-0.0215\tNumber of valid training triplets in epoch: 340 \n"
     ]
    },
    {
     "name": "stderr",
     "output_type": "stream",
     "text": [
      "100%|██████████| 8/8 [00:08<00:00,  1.02s/it]\n",
      "  0%|          | 0/74 [00:00<?, ?it/s]"
     ]
    },
    {
     "name": "stdout",
     "output_type": "stream",
     "text": [
      "Epoch 37:\tAverage Valid Triplet Loss: 0.1693\t Valid Accuracy: 0.7721+-0.0494\n",
      "EarlyStopping counter: 7 out of 30\n"
     ]
    },
    {
     "name": "stderr",
     "output_type": "stream",
     "text": [
      "100%|██████████| 74/74 [00:30<00:00,  2.45it/s]\n",
      "  0%|          | 0/8 [00:00<?, ?it/s]"
     ]
    },
    {
     "name": "stdout",
     "output_type": "stream",
     "text": [
      "Epoch 38:\tAverage Training Triplet Loss: 0.5177\t Training Accuracy: 0.8212+-0.0265\tNumber of valid training triplets in epoch: 288 \n"
     ]
    },
    {
     "name": "stderr",
     "output_type": "stream",
     "text": [
      "100%|██████████| 8/8 [00:09<00:00,  1.18s/it]\n",
      "  0%|          | 0/74 [00:00<?, ?it/s]"
     ]
    },
    {
     "name": "stdout",
     "output_type": "stream",
     "text": [
      "Epoch 38:\tAverage Valid Triplet Loss: 0.2178\t Valid Accuracy: 0.7521+-0.0449\n",
      "EarlyStopping counter: 8 out of 30\n"
     ]
    },
    {
     "name": "stderr",
     "output_type": "stream",
     "text": [
      "100%|██████████| 74/74 [00:30<00:00,  2.42it/s]\n",
      "  0%|          | 0/8 [00:00<?, ?it/s]"
     ]
    },
    {
     "name": "stdout",
     "output_type": "stream",
     "text": [
      "Epoch 39:\tAverage Training Triplet Loss: 0.5098\t Training Accuracy: 0.8032+-0.0264\tNumber of valid training triplets in epoch: 313 \n"
     ]
    },
    {
     "name": "stderr",
     "output_type": "stream",
     "text": [
      "100%|██████████| 8/8 [00:08<00:00,  1.10s/it]\n",
      "  0%|          | 0/74 [00:00<?, ?it/s]"
     ]
    },
    {
     "name": "stdout",
     "output_type": "stream",
     "text": [
      "Epoch 39:\tAverage Valid Triplet Loss: 0.2041\t Valid Accuracy: 0.7682+-0.0293\n",
      "EarlyStopping counter: 9 out of 30\n"
     ]
    },
    {
     "name": "stderr",
     "output_type": "stream",
     "text": [
      "100%|██████████| 74/74 [00:30<00:00,  2.46it/s]\n",
      "  0%|          | 0/8 [00:00<?, ?it/s]"
     ]
    },
    {
     "name": "stdout",
     "output_type": "stream",
     "text": [
      "Epoch 40:\tAverage Training Triplet Loss: 0.5556\t Training Accuracy: 0.7952+-0.0279\tNumber of valid training triplets in epoch: 335 \n"
     ]
    },
    {
     "name": "stderr",
     "output_type": "stream",
     "text": [
      "100%|██████████| 8/8 [00:08<00:00,  1.09s/it]\n",
      "  0%|          | 0/74 [00:00<?, ?it/s]"
     ]
    },
    {
     "name": "stdout",
     "output_type": "stream",
     "text": [
      "Epoch 40:\tAverage Valid Triplet Loss: 0.1867\t Valid Accuracy: 0.7602+-0.0482\n",
      "EarlyStopping counter: 10 out of 30\n"
     ]
    },
    {
     "name": "stderr",
     "output_type": "stream",
     "text": [
      "100%|██████████| 74/74 [00:31<00:00,  2.35it/s]\n",
      "  0%|          | 0/8 [00:00<?, ?it/s]"
     ]
    },
    {
     "name": "stdout",
     "output_type": "stream",
     "text": [
      "Epoch 41:\tAverage Training Triplet Loss: 0.4865\t Training Accuracy: 0.7979+-0.0247\tNumber of valid training triplets in epoch: 342 \n"
     ]
    },
    {
     "name": "stderr",
     "output_type": "stream",
     "text": [
      "100%|██████████| 8/8 [00:09<00:00,  1.14s/it]\n",
      "  0%|          | 0/74 [00:00<?, ?it/s]"
     ]
    },
    {
     "name": "stdout",
     "output_type": "stream",
     "text": [
      "Epoch 41:\tAverage Valid Triplet Loss: 0.2227\t Valid Accuracy: 0.7269+-0.0373\n",
      "EarlyStopping counter: 11 out of 30\n"
     ]
    },
    {
     "name": "stderr",
     "output_type": "stream",
     "text": [
      "100%|██████████| 74/74 [00:30<00:00,  2.42it/s]\n",
      "  0%|          | 0/8 [00:00<?, ?it/s]"
     ]
    },
    {
     "name": "stdout",
     "output_type": "stream",
     "text": [
      "Epoch 42:\tAverage Training Triplet Loss: 0.5457\t Training Accuracy: 0.7880+-0.0368\tNumber of valid training triplets in epoch: 372 \n"
     ]
    },
    {
     "name": "stderr",
     "output_type": "stream",
     "text": [
      "100%|██████████| 8/8 [00:08<00:00,  1.12s/it]\n",
      "  0%|          | 0/74 [00:00<?, ?it/s]"
     ]
    },
    {
     "name": "stdout",
     "output_type": "stream",
     "text": [
      "Epoch 42:\tAverage Valid Triplet Loss: 0.1705\t Valid Accuracy: 0.7641+-0.0324\n",
      "EarlyStopping counter: 12 out of 30\n"
     ]
    },
    {
     "name": "stderr",
     "output_type": "stream",
     "text": [
      "100%|██████████| 74/74 [00:30<00:00,  2.44it/s]\n",
      "  0%|          | 0/8 [00:00<?, ?it/s]"
     ]
    },
    {
     "name": "stdout",
     "output_type": "stream",
     "text": [
      "Epoch 43:\tAverage Training Triplet Loss: 0.4763\t Training Accuracy: 0.8099+-0.0231\tNumber of valid training triplets in epoch: 319 \n"
     ]
    },
    {
     "name": "stderr",
     "output_type": "stream",
     "text": [
      "100%|██████████| 8/8 [00:08<00:00,  1.06s/it]\n",
      "  0%|          | 0/74 [00:00<?, ?it/s]"
     ]
    },
    {
     "name": "stdout",
     "output_type": "stream",
     "text": [
      "Epoch 43:\tAverage Valid Triplet Loss: 0.1777\t Valid Accuracy: 0.7772+-0.0392\n",
      "EarlyStopping counter: 13 out of 30\n"
     ]
    },
    {
     "name": "stderr",
     "output_type": "stream",
     "text": [
      "100%|██████████| 74/74 [00:30<00:00,  2.44it/s]\n",
      "  0%|          | 0/8 [00:00<?, ?it/s]"
     ]
    },
    {
     "name": "stdout",
     "output_type": "stream",
     "text": [
      "Epoch 44:\tAverage Training Triplet Loss: 0.5359\t Training Accuracy: 0.8172+-0.0329\tNumber of valid training triplets in epoch: 306 \n"
     ]
    },
    {
     "name": "stderr",
     "output_type": "stream",
     "text": [
      "100%|██████████| 8/8 [00:07<00:00,  1.02it/s]\n",
      "  0%|          | 0/74 [00:00<?, ?it/s]"
     ]
    },
    {
     "name": "stdout",
     "output_type": "stream",
     "text": [
      "Epoch 44:\tAverage Valid Triplet Loss: 0.2223\t Valid Accuracy: 0.7339+-0.0313\n",
      "EarlyStopping counter: 14 out of 30\n"
     ]
    },
    {
     "name": "stderr",
     "output_type": "stream",
     "text": [
      "100%|██████████| 74/74 [00:30<00:00,  2.45it/s]\n",
      "  0%|          | 0/8 [00:00<?, ?it/s]"
     ]
    },
    {
     "name": "stdout",
     "output_type": "stream",
     "text": [
      "Epoch 45:\tAverage Training Triplet Loss: 0.4888\t Training Accuracy: 0.8083+-0.0174\tNumber of valid training triplets in epoch: 326 \n"
     ]
    },
    {
     "name": "stderr",
     "output_type": "stream",
     "text": [
      "100%|██████████| 8/8 [00:09<00:00,  1.15s/it]\n",
      "  0%|          | 0/74 [00:00<?, ?it/s]"
     ]
    },
    {
     "name": "stdout",
     "output_type": "stream",
     "text": [
      "Epoch 45:\tAverage Valid Triplet Loss: 0.1670\t Valid Accuracy: 0.7723+-0.0460\n",
      "EarlyStopping counter: 15 out of 30\n"
     ]
    },
    {
     "name": "stderr",
     "output_type": "stream",
     "text": [
      "100%|██████████| 74/74 [00:31<00:00,  2.33it/s]\n",
      "  0%|          | 0/8 [00:00<?, ?it/s]"
     ]
    },
    {
     "name": "stdout",
     "output_type": "stream",
     "text": [
      "Epoch 46:\tAverage Training Triplet Loss: 0.4942\t Training Accuracy: 0.8154+-0.0272\tNumber of valid training triplets in epoch: 304 \n"
     ]
    },
    {
     "name": "stderr",
     "output_type": "stream",
     "text": [
      "100%|██████████| 8/8 [00:09<00:00,  1.18s/it]\n",
      "  0%|          | 0/74 [00:00<?, ?it/s]"
     ]
    },
    {
     "name": "stdout",
     "output_type": "stream",
     "text": [
      "Epoch 46:\tAverage Valid Triplet Loss: 0.1688\t Valid Accuracy: 0.7581+-0.0561\n",
      "EarlyStopping counter: 16 out of 30\n"
     ]
    },
    {
     "name": "stderr",
     "output_type": "stream",
     "text": [
      "100%|██████████| 74/74 [00:30<00:00,  2.41it/s]\n",
      "  0%|          | 0/8 [00:00<?, ?it/s]"
     ]
    },
    {
     "name": "stdout",
     "output_type": "stream",
     "text": [
      "Epoch 47:\tAverage Training Triplet Loss: 0.4858\t Training Accuracy: 0.8065+-0.0264\tNumber of valid training triplets in epoch: 295 \n"
     ]
    },
    {
     "name": "stderr",
     "output_type": "stream",
     "text": [
      "100%|██████████| 8/8 [00:09<00:00,  1.17s/it]\n",
      "  0%|          | 0/74 [00:00<?, ?it/s]"
     ]
    },
    {
     "name": "stdout",
     "output_type": "stream",
     "text": [
      "Epoch 47:\tAverage Valid Triplet Loss: 0.2157\t Valid Accuracy: 0.7398+-0.0593\n",
      "EarlyStopping counter: 17 out of 30\n"
     ]
    },
    {
     "name": "stderr",
     "output_type": "stream",
     "text": [
      "100%|██████████| 74/74 [00:30<00:00,  2.43it/s]\n",
      "  0%|          | 0/8 [00:00<?, ?it/s]"
     ]
    },
    {
     "name": "stdout",
     "output_type": "stream",
     "text": [
      "Epoch 48:\tAverage Training Triplet Loss: 0.5386\t Training Accuracy: 0.7956+-0.0195\tNumber of valid training triplets in epoch: 327 \n"
     ]
    },
    {
     "name": "stderr",
     "output_type": "stream",
     "text": [
      "100%|██████████| 8/8 [00:08<00:00,  1.07s/it]\n",
      "  0%|          | 0/74 [00:00<?, ?it/s]"
     ]
    },
    {
     "name": "stdout",
     "output_type": "stream",
     "text": [
      "Epoch 48:\tAverage Valid Triplet Loss: 0.1904\t Valid Accuracy: 0.7551+-0.0353\n",
      "EarlyStopping counter: 18 out of 30\n"
     ]
    },
    {
     "name": "stderr",
     "output_type": "stream",
     "text": [
      "100%|██████████| 74/74 [00:30<00:00,  2.47it/s]\n",
      "  0%|          | 0/8 [00:00<?, ?it/s]"
     ]
    },
    {
     "name": "stdout",
     "output_type": "stream",
     "text": [
      "Epoch 49:\tAverage Training Triplet Loss: 0.5135\t Training Accuracy: 0.8322+-0.0203\tNumber of valid training triplets in epoch: 270 \n"
     ]
    },
    {
     "name": "stderr",
     "output_type": "stream",
     "text": [
      "100%|██████████| 8/8 [00:09<00:00,  1.18s/it]\n",
      "  0%|          | 0/74 [00:00<?, ?it/s]"
     ]
    },
    {
     "name": "stdout",
     "output_type": "stream",
     "text": [
      "Epoch 49:\tAverage Valid Triplet Loss: 0.1960\t Valid Accuracy: 0.7379+-0.0272\n",
      "EarlyStopping counter: 19 out of 30\n"
     ]
    },
    {
     "name": "stderr",
     "output_type": "stream",
     "text": [
      "100%|██████████| 74/74 [00:30<00:00,  2.44it/s]\n",
      "  0%|          | 0/8 [00:00<?, ?it/s]"
     ]
    },
    {
     "name": "stdout",
     "output_type": "stream",
     "text": [
      "Epoch 50:\tAverage Training Triplet Loss: 0.5103\t Training Accuracy: 0.8172+-0.0177\tNumber of valid training triplets in epoch: 298 \n"
     ]
    },
    {
     "name": "stderr",
     "output_type": "stream",
     "text": [
      "100%|██████████| 8/8 [00:09<00:00,  1.13s/it]\n"
     ]
    },
    {
     "name": "stdout",
     "output_type": "stream",
     "text": [
      "Epoch 50:\tAverage Valid Triplet Loss: 0.2200\t Valid Accuracy: 0.7561+-0.0447\n",
      "EarlyStopping counter: 20 out of 30\n",
      "Done!\n"
     ]
    }
   ],
   "source": [
    "# Start training model using Triplet Loss\n",
    "model, train_loss, valid_loss, train_acc, valid_acc =train_triplet(\n",
    "    epochs=epochs,\n",
    "    train_dataloader=train_dataloader,\n",
    "    eval_dataloader=eval_dataloader,\n",
    "    model=model,\n",
    "    optimizer_model=optimizer_model,\n",
    "    margin=margin\n",
    ")"
   ]
  },
  {
   "cell_type": "markdown",
   "metadata": {},
   "source": [
    "# 可视化训练结果"
   ]
  },
  {
   "cell_type": "markdown",
   "metadata": {},
   "source": [
    "## Triple Loss"
   ]
  },
  {
   "cell_type": "code",
   "execution_count": 28,
   "metadata": {},
   "outputs": [
    {
     "data": {
      "image/png": "[encoded data removed]",
      "text/plain": [
       "<Figure size 720x576 with 1 Axes>"
      ]
     },
     "metadata": {
      "needs_background": "light"
     },
     "output_type": "display_data"
    }
   ],
   "source": [
    "# visualize the loss as the network trained\n",
    "fig = plt.figure(figsize=(10,8))\n",
    "plt.plot(range(1,len(train_loss)+1),train_loss, label='Training Loss')\n",
    "plt.plot(range(1,len(valid_loss)+1),valid_loss,label='Validation Loss')\n",
    "plt.xlabel('epochs',fontsize=30)\n",
    "plt.ylabel('loss',fontsize=30)\n",
    "\n",
    "# # find position of lowest validation loss\n",
    "# minposs = valid_loss.index(min(valid_loss))+1 \n",
    "# plt.axvline(minposs, linestyle='--', color='r',label='Early Stopping Checkpoint')\n",
    "\n",
    "#plt.ylim(0, 0.5) # consistent scale\n",
    "plt.xlim(1, len(train_loss)+1) # consistent scale\n",
    "plt.yticks(fontsize=30)\n",
    "plt.xticks(fontsize=30)\n",
    "plt.grid(True)\n",
    "plt.legend(loc = 'best',fontsize=30)\n",
    "plt.tight_layout()\n",
    "fig.savefig('face_50_loss.png', bbox_inches='tight',dpi=300)\n",
    "plt.show()"
   ]
  },
  {
   "cell_type": "markdown",
   "metadata": {},
   "source": [
    "## Accuracy"
   ]
  },
  {
   "cell_type": "code",
   "execution_count": 22,
   "metadata": {},
   "outputs": [
    {
     "data": {
      "image/png": "[encoded data removed]",
      "text/plain": [
       "<Figure size 720x576 with 1 Axes>"
      ]
     },
     "metadata": {
      "needs_background": "light"
     },
     "output_type": "display_data"
    }
   ],
   "source": [
    "# visualize the accuracy as the network trained\n",
    "fig = plt.figure(figsize=(10,8))\n",
    "plt.plot(range(1,len(train_acc)+1),train_acc, label='Training Accuracy')\n",
    "plt.plot(range(1,len(valid_acc)+1),valid_acc,label='Validation Accuracy')\n",
    "\n",
    "# find position of lowest validation loss\n",
    "maxposs = valid_acc.index(max(valid_acc))+1 \n",
    "plt.axvline(maxposs, linestyle='--', color='r',label='Early Stopping Checkpoint')\n",
    "\n",
    "plt.xlabel('epochs',fontsize=30)\n",
    "plt.ylabel('Accuracy',fontsize=30)\n",
    "plt.ylim(0, 1) # consistent scale\n",
    "plt.xlim(1, len(train_loss)+1) # consistent scale\n",
    "plt.yticks(fontsize=30)\n",
    "plt.xticks(fontsize=30)\n",
    "plt.grid(True)\n",
    "plt.legend(loc = 'best',fontsize=30)\n",
    "plt.tight_layout()\n",
    "plt.show()\n",
    "fig.savefig('Accuracy_plot.png', bbox_inches='tight',dpi=300)"
   ]
  },
  {
   "cell_type": "code",
   "execution_count": null,
   "metadata": {},
   "outputs": [],
   "source": []
  }
 ],
 "metadata": {
  "kernelspec": {
   "display_name": "Python 3",
   "language": "python",
   "name": "python3"
  },
  "language_info": {
   "codemirror_mode": {
    "name": "ipython",
    "version": 3
   },
   "file_extension": ".py",
   "mimetype": "text/x-python",
   "name": "python",
   "nbconvert_exporter": "python",
   "pygments_lexer": "ipython3",
   "version": "3.7.6"
  }
 },
 "nbformat": 4,
 "nbformat_minor": 4
}
